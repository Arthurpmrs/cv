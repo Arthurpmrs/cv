{
 "cells": [
  {
   "cell_type": "code",
   "execution_count": null,
   "metadata": {},
   "outputs": [],
   "source": [
    "from PIL import Image\n",
    "import numpy as np\n",
    "from pathlib import Path"
   ]
  },
  {
   "cell_type": "code",
   "execution_count": 43,
   "metadata": {},
   "outputs": [],
   "source": [
    "def read_ppm(ppm_path: str) -> np.ndarray:\n",
    "    with open(ppm_path, 'rb') as ppm:\n",
    "        header = ppm.readline().decode()\n",
    "        if header.strip() != 'P6':\n",
    "            raise Exception('Only Raw PPM file supported.')\n",
    "        \n",
    "        metadata_count = 0\n",
    "        metadata = []\n",
    "        while metadata_count < 2:\n",
    "            line = ppm.readline().decode()\n",
    "            if line.startswith('#'):\n",
    "                continue\n",
    "            \n",
    "            metadata.extend([int(v) for v in line.split(' ')])\n",
    "            metadata_count += 1\n",
    "            \n",
    "        width, height, maxval = metadata\n",
    "\n",
    "        if maxval > 255:\n",
    "            raise Exception('Only 8-bit images supported.')\n",
    "\n",
    "\n",
    "        return np.frombuffer(ppm.read(), dtype=np.uint8).reshape((height, width, 3))\n",
    "\n",
    "def apply_filter(img_channel: np.ndarray, filter_size: int, filt: np.ndarray) -> np.ndarray:\n",
    "    filt = np.flip(filt, axis=(0,1))\n",
    "    pad_size = filter_size // 2\n",
    "    padded_img = np.pad(img_channel.astype(np.float32), pad_size, mode='constant')\n",
    "    height, width = padded_img.shape\n",
    "\n",
    "    for i in range(pad_size, height - pad_size):\n",
    "        for j in range(pad_size, width - pad_size):\n",
    "            chunk = padded_img[i - pad_size:i + pad_size + 1, j - pad_size:j + pad_size + 1]\n",
    "            padded_img[i, j] = np.sum(chunk * filt)\n",
    "\n",
    "    output = padded_img[pad_size:height - pad_size, pad_size:width - pad_size]\n",
    "    return np.clip(output, 0, 255).astype(np.uint8)\n",
    "\n",
    "\n",
    "def filter_ppm(img: np.ndarray, filter_size: int, filt: np.ndarray) -> np.ndarray:\n",
    "    filtered_channels = []\n",
    "    for c in range(3):\n",
    "        filtered_channels.append(apply_filter(img[:, :, c], filter_size, filt))\n",
    "    \n",
    "    return np.stack(filtered_channels, axis=-1)\n",
    "\n",
    "def get_identity_kernel(size: int) -> np.ndarray:\n",
    "    if size % 2 == 0:\n",
    "        raise Exception(\"Kernel must have an odd size.\")\n",
    "    if size <= 1:\n",
    "        raise Exception(\"Kernels must have size 3 or greated (and should be odd).\")\n",
    "\n",
    "    identity = np.zeros((size, size), dtype=np.float32)\n",
    "    identity[size//2, size//2] = 1\n",
    "    return identity\n",
    "\n",
    "def save_ppm(ppm_image: np.ndarray, filename: str, foldername:str='./output') -> None:\n",
    "    folder = Path(foldername)\n",
    "    folder.mkdir(exist_ok=True, parents=True)\n",
    "\n",
    "    filepath = folder / Path(filename)\n",
    "\n",
    "    header = 'P6'\n",
    "    height, width, _ = ppm_image.shape\n",
    "    maxval = int(np.max(ppm_image))\n",
    "\n",
    "    ppm_image = np.clip(ppm_image, 0, 255).astype(np.uint8)\n",
    "\n",
    "    print(width, height)\n",
    "    with open(filepath, 'wb') as ppm:\n",
    "        ppm.write(f\"{header}\\n\".encode('ascii'))\n",
    "        ppm.write(f\"{width} {height}\\n\".encode('ascii'))\n",
    "        ppm.write(f\"{maxval}\\n\".encode('ascii'))\n",
    "        ppm.write(ppm_image.tobytes())\n",
    "\n",
    "# Referência: \n",
    "# https://stackoverflow.com/questions/29731726/how-to-calculate-a-gaussian-kernel-matrix-efficiently-in-numpy\n",
    "def get_gaussian_kernel(size=5, sigma=1):\n",
    "    \"\"\"\n",
    "    Creates gaussian kernel with side length `l` and a sigma of `sig`\n",
    "    \"\"\"\n",
    "    ax = np.linspace(-(size - 1) / 2.0, (size - 1) / 2.0, size)\n",
    "    gauss = np.exp(-0.5 * np.square(ax) / np.square(sigma))\n",
    "    kernel = np.outer(gauss, gauss)\n",
    "    return kernel / np.sum(kernel)"
   ]
  },
  {
   "cell_type": "code",
   "execution_count": null,
   "metadata": {},
   "outputs": [
    {
     "name": "stdout",
     "output_type": "stream",
     "text": [
      "366 216\n"
     ]
    }
   ],
   "source": [
    "img_path = '../ppm_images/west_1.ppm'\n",
    "img = read_ppm(img_path)\n",
    "# img_path = '../images/mountain.jpg'\n",
    "# img = np.array(Image.open(img_path))\n",
    "img.shape\n",
    "\n",
    "n = 5\n",
    "mean_kernel = 1 / 9 * np.ones((n, n), dtype=np.float32)\n",
    "identity = get_identity_kernel(n) \n",
    "gauss_kernel = get_gaussian_kernel(n)\n",
    "\n",
    "sharp_basic = 2 * identity - mean_kernel\n",
    "sharp_gauss = 2 * identity - gauss_kernel\n",
    "\n",
    "filtered = filter_ppm(img, n, sharp_gauss)\n",
    "save_ppm(filtered, 'sharp_gauss_west_1_2.ppm', '../output')"
   ]
  },
  {
   "cell_type": "code",
   "execution_count": null,
   "metadata": {},
   "outputs": [
    {
     "data": {
      "text/plain": [
       "np.uint8(255)"
      ]
     },
     "execution_count": 19,
     "metadata": {},
     "output_type": "execute_result"
    }
   ],
   "source": [
    "# Show filtered\n",
    "fi = Image.fromarray(filtered)\n",
    "fi.show()\n",
    "\n",
    "# Show Original\n",
    "with Image.open(img_path, 'r') as img:\n",
    "    img.show()"
   ]
  },
  {
   "cell_type": "code",
   "execution_count": null,
   "metadata": {},
   "outputs": [],
   "source": []
  }
 ],
 "metadata": {
  "kernelspec": {
   "display_name": ".venv",
   "language": "python",
   "name": "python3"
  },
  "language_info": {
   "codemirror_mode": {
    "name": "ipython",
    "version": 3
   },
   "file_extension": ".py",
   "mimetype": "text/x-python",
   "name": "python",
   "nbconvert_exporter": "python",
   "pygments_lexer": "ipython3",
   "version": "3.13.2"
  }
 },
 "nbformat": 4,
 "nbformat_minor": 2
}
