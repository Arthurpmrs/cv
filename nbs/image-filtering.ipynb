{
 "cells": [
  {
   "cell_type": "code",
   "execution_count": 68,
   "metadata": {},
   "outputs": [],
   "source": [
    "from PIL import Image\n",
    "import numpy as np\n",
    "\n",
    "image = Image.open(\"images/kobayashi.jpg\")\n",
    "image_array = np.array(image)\n",
    "\n",
    "for i in range(image_array.shape[0]):\n",
    "    for j in range(image_array.shape[1]):\n",
    "        for k in range(3):\n",
    "            rgb = image_array[i, j].tolist()\n",
    "            image_array[i, j] = 0.2126 * rgb[0] + 0.7152 * rgb[1] + 0.0722 * rgb[2]\n",
    "\n",
    "brightness = 50\n",
    "\n",
    "brighter_image_array = np.clip(image_array.astype(int) + brightness, 0 ,255).astype(np.uint8)\n",
    "\n",
    "pb = Image.fromarray(image_array)\n",
    "brighter = Image.fromarray(brighter_image_array)\n",
    "brighter.show()\n",
    "pb.show()"
   ]
  },
  {
   "cell_type": "code",
   "execution_count": 73,
   "metadata": {},
   "outputs": [],
   "source": [
    "from PIL import Image\n",
    "import numpy as np\n",
    "\n",
    "def rgb_to_grayscale(rgb: np.ndarray) -> np.uint8:\n",
    "    return 0.2126 * rgb[0] + 0.7152 * rgb[1] + 0.0722 * rgb[2]\n",
    "\n",
    "image = Image.open(\"images/kobayashi.jpg\")\n",
    "image_array = np.array(image)\n",
    "\n",
    "\n",
    "brightness = 50\n",
    "gray_image = np.apply_along_axis(rgb_to_grayscale, 2, image_array)\n",
    "brighter_image = np.clip(gray_image.astype(int) + brightness, 0 ,255).astype(np.uint8)\n",
    "\n",
    "pb = Image.fromarray(gray_image)\n",
    "pb.show()\n",
    "brighter = Image.fromarray(brighter_image)\n",
    "brighter.show()"
   ]
  },
  {
   "cell_type": "code",
   "execution_count": null,
   "metadata": {},
   "outputs": [],
   "source": [
    "# import math\n",
    "rows = gray_image.shape[0]\n",
    "cols = gray_image.shape[1]\n",
    "mirrored_x = np.zeros(gray_image.shape)\n",
    "mirrored_y = np.zeros(gray_image.shape)\n",
    "\n",
    "for i in range(rows):\n",
    "    for j in range(cols):\n",
    "        mirrored_x[i, j] = gray_image[i, cols - j - 1]\n",
    "\n",
    "for j in range(cols):\n",
    "    for i in range(rows):\n",
    "        mirrored_y[i, j] = gray_image[rows - i - 1, j]\n",
    "\n",
    "# mirrored_x = np.flip(gray_image, axis=1)\n",
    "# mirrored_y = np.flip(gray_image, axis=0)\n",
    "\n",
    "mir_x = Image.fromarray(mirrored_x)\n",
    "mir_x.show()\n",
    "mir_y = Image.fromarray(mirrored_y)\n",
    "mir_y.show()\n",
    "\n",
    "\n"
   ]
  },
  {
   "cell_type": "code",
   "execution_count": 48,
   "metadata": {},
   "outputs": [
    {
     "data": {
      "text/plain": [
       "array([[20, 20, 20],\n",
       "       [20, 20, 20]], dtype=uint8)"
      ]
     },
     "execution_count": 48,
     "metadata": {},
     "output_type": "execute_result"
    }
   ],
   "source": [
    "A = np.array([[255, 2, 3],\n",
    "              [4, 5, 6]], np.uint8)\n",
    "type(A)\n",
    "A + 10\n",
    "A[:, 1]\n",
    "A[0, :]\n",
    "A[0, 0].item()\n",
    "A.tolist()\n",
    "A.fill(0)\n",
    "np.clip(A.astype(int) + 20, 0, 255).astype(np.uint8)\n",
    "\n"
   ]
  },
  {
   "cell_type": "code",
   "execution_count": null,
   "metadata": {},
   "outputs": [],
   "source": []
  }
 ],
 "metadata": {
  "kernelspec": {
   "display_name": ".venv",
   "language": "python",
   "name": "python3"
  },
  "language_info": {
   "codemirror_mode": {
    "name": "ipython",
    "version": 3
   },
   "file_extension": ".py",
   "mimetype": "text/x-python",
   "name": "python",
   "nbconvert_exporter": "python",
   "pygments_lexer": "ipython3",
   "version": "3.13.1"
  }
 },
 "nbformat": 4,
 "nbformat_minor": 2
}
