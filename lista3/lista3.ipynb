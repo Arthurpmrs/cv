{
 "cells": [
  {
   "cell_type": "markdown",
   "metadata": {},
   "source": [
    "# Lista 3\n",
    "Arthur Pontes de Miranda Ramos Soares"
   ]
  },
  {
   "cell_type": "code",
   "execution_count": 2,
   "metadata": {},
   "outputs": [],
   "source": [
    "import numpy as np\n",
    "import cv2 as cv\n",
    "import matplotlib.pyplot as plt"
   ]
  },
  {
   "cell_type": "markdown",
   "metadata": {},
   "source": [
    "## Funções Auxiliares"
   ]
  },
  {
   "cell_type": "code",
   "execution_count": 3,
   "metadata": {},
   "outputs": [],
   "source": [
    "def show_images(*images: np.ndarray, titles: list[str] | None = None, columns: int = 2, scale: int = 5) -> None:\n",
    "    num_images = len(images)\n",
    "    \n",
    "    if titles is None:\n",
    "        titles = [f'Image {i+1}' for i in range(num_images)]\n",
    "    \n",
    "    rows = (num_images + columns - 1) // columns \n",
    "\n",
    "    fig, axes = plt.subplots(rows, columns, figsize=(scale * columns, scale * rows))\n",
    "    axes = np.array(axes).reshape(rows, columns)\n",
    "\n",
    "    for ax, img, title in zip(axes.flat, images, titles):\n",
    "        ax.imshow(img)\n",
    "        ax.set_title(title)\n",
    "\n",
    "    for i in range(num_images, rows * columns):\n",
    "        fig.delaxes(axes.flat[i])\n",
    "\n",
    "    plt.tight_layout()\n",
    "\n",
    "def show_image(image: np.ndarray, title: str = None, dpi: int = 100) -> None:\n",
    "    height, width, _ = image.shape\n",
    "    \n",
    "    figsize = (width / dpi, height / dpi)\n",
    "    \n",
    "    plt.figure(figsize=figsize, dpi=dpi)\n",
    "    plt.imshow(image, cmap='gray' if len(image.shape) == 2 else None)\n",
    "    plt.title(title if title else \"\")\n",
    "\n",
    "    plt.tight_layout()"
   ]
  },
  {
   "cell_type": "markdown",
   "metadata": {},
   "source": [
    "## Questão 1"
   ]
  },
  {
   "cell_type": "code",
   "execution_count": 5,
   "metadata": {},
   "outputs": [
    {
     "name": "stdout",
     "output_type": "stream",
     "text": [
      "[[ 1.41794916e+00 -1.05458776e+00  6.22317371e+02]\n",
      " [ 4.03613720e-01  1.93580647e-01  1.36616745e+02]\n",
      " [ 8.15723400e-04 -1.27284317e-03  1.00000000e+00]]\n"
     ]
    }
   ],
   "source": [
    "N_MATCHES = 14\n",
    "def match_sift(filename1: str, filename2: str):\n",
    "    img1 = cv.imread(filename1, cv.IMREAD_GRAYSCALE)\n",
    "    img2 = cv.imread(filename2, cv.IMREAD_GRAYSCALE)\n",
    "\n",
    "    sift = cv.SIFT_create()\n",
    "    kp1, des1 = sift.detectAndCompute(img1, None)\n",
    "    kp2, des2 = sift.detectAndCompute(img2, None)\n",
    "\n",
    "    bf = cv.BFMatcher(cv.NORM_L2, crossCheck=True)\n",
    "\n",
    "    matches = bf.match(des1, des2)\n",
    "    matches = sorted(matches, key = lambda x:x.distance)\n",
    "    \n",
    "    return kp1, kp2, matches\n",
    "\n",
    "filenames = [('praia-1', 'praia-2')]\n",
    "for filename1, filename2 in filenames:\n",
    "    kp1, kp2, matches = match_sift(f'./assets/{filename1}.jpg', f'./assets/{filename2}.jpg')\n",
    "\n",
    "    src = np.float32([kp1[m.queryIdx].pt for m in matches[:4]]).reshape(-1, 2)\n",
    "    dst = np.float32([kp2[m.trainIdx].pt for m in matches[:4]]).reshape(-1, 2)\n",
    "\n",
    "    transform_mat = cv.getPerspectiveTransform(src, dst)\n",
    " \n",
    "    print(transform_mat)"
   ]
  },
  {
   "cell_type": "code",
   "execution_count": null,
   "metadata": {},
   "outputs": [],
   "source": []
  }
 ],
 "metadata": {
  "kernelspec": {
   "display_name": ".venv",
   "language": "python",
   "name": "python3"
  },
  "language_info": {
   "codemirror_mode": {
    "name": "ipython",
    "version": 3
   },
   "file_extension": ".py",
   "mimetype": "text/x-python",
   "name": "python",
   "nbconvert_exporter": "python",
   "pygments_lexer": "ipython3",
   "version": "3.13.2"
  }
 },
 "nbformat": 4,
 "nbformat_minor": 2
}
