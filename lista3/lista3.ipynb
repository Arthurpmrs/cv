{
 "cells": [
  {
   "cell_type": "markdown",
   "metadata": {},
   "source": [
    "# Lista 3\n",
    "Arthur Pontes de Miranda Ramos Soares"
   ]
  },
  {
   "cell_type": "code",
   "execution_count": null,
   "metadata": {},
   "outputs": [],
   "source": [
    "import cv2 as cv\n",
    "import matplotlib.pyplot as plt\n",
    "import numpy as np\n"
   ]
  },
  {
   "cell_type": "markdown",
   "metadata": {},
   "source": [
    "## Funções Auxiliares"
   ]
  },
  {
   "cell_type": "code",
   "execution_count": null,
   "metadata": {},
   "outputs": [],
   "source": [
    "def show_images(\n",
    "    *images: np.ndarray, titles: list[str] | None = None, columns: int = 2, scale: int = 5\n",
    ") -> None:\n",
    "    num_images = len(images)\n",
    "\n",
    "    if titles is None:\n",
    "        titles = [f'Image {i + 1}' for i in range(num_images)]\n",
    "\n",
    "    rows = (num_images + columns - 1) // columns\n",
    "\n",
    "    fig, axes = plt.subplots(rows, columns, figsize=(scale * columns, scale * rows))\n",
    "    axes = np.array(axes).reshape(rows, columns)\n",
    "\n",
    "    for ax, img, title in zip(axes.flat, images, titles):\n",
    "        ax.imshow(img, cmap='gray')\n",
    "        ax.set_title(title)\n",
    "\n",
    "    for i in range(num_images, rows * columns):\n",
    "        fig.delaxes(axes.flat[i])\n",
    "\n",
    "    plt.tight_layout()\n",
    "\n",
    "\n",
    "def show_image(image: np.ndarray, title: str = None, dpi: int = 100) -> None:\n",
    "    height, width, _ = image.shape\n",
    "\n",
    "    figsize = (width / dpi, height / dpi)\n",
    "\n",
    "    plt.figure(figsize=figsize, dpi=dpi)\n",
    "    plt.imshow(image, cmap='gray' if len(image.shape) == 2 else None)\n",
    "    plt.title(title if title else '')\n",
    "\n",
    "    plt.tight_layout()"
   ]
  },
  {
   "cell_type": "markdown",
   "metadata": {},
   "source": [
    "## Questão 1"
   ]
  },
  {
   "cell_type": "markdown",
   "metadata": {},
   "source": [
    "Nessa questão, vamos usar os matches gerados pelo SIFT e BFMatcher para calcular a matriz de homografia e então montar o Panorama.\n",
    "\n",
    "O panorama vai ser composto por duas imagens que possuem alguma sobreposição, as imagens da esquerda e da direita. Optei por aplicar a homografia na imagem da esquerda de forma que ela se ajuste à imagem da direita. O passo a passo foi o seguinte:\n",
    "\n",
    "1. Extrair as features e realizar o match entre elas (SIFT e BFMatcher)\n",
    "2. Filtrar os matches para obter apenas os N_MATCHES melhores e obter os vetores das posições das features src e dsc (valores (x, y))\n",
    "3. Obter a matriz de homografia usando `findHomography` do OpenCV\n",
    "4. Calcular as dimensões do panorama, aplicando uma transformação de perspectiva que usa a homografia na imagem da esquerda e obtendo os pontos limites entre as  coordenadas da imagem da direita e da imagem da esquerda transformada.\n",
    "5. Aplicar a homografia na imagem da esquerda propriamente dita. Nesse passo, foi necessário aplicar uma translação, pois x_min e y_min forem negativos, o que gera problemas na hora de gerar a imagem.\n",
    "6. Colar a imagem da direita no panorama resultando\n",
    "7. Cortar o panorama de forma que as dimensões sejam no máximo `(original_h, 2 * original_w)`\n",
    "\n",
    "Os resultados foram exibidos abaixo. É possível ver que as imagens recortadas apresentam informações de ambas as imagens. Também foram apresentados os resultados sem recorte."
   ]
  },
  {
   "cell_type": "code",
   "execution_count": null,
   "metadata": {},
   "outputs": [],
   "source": [
    "def match_sift(img1: cv.typing.MatLike, img2: cv.typing.MatLike):\n",
    "    sift = cv.SIFT_create()\n",
    "    kp1, des1 = sift.detectAndCompute(img1, None)\n",
    "    kp2, des2 = sift.detectAndCompute(img2, None)\n",
    "\n",
    "    bf = cv.BFMatcher(cv.NORM_L2, crossCheck=True)\n",
    "\n",
    "    matches = bf.match(des1, des2)\n",
    "    matches = sorted(matches, key=lambda x: x.distance)\n",
    "\n",
    "    return kp1, kp2, matches"
   ]
  },
  {
   "cell_type": "code",
   "execution_count": null,
   "metadata": {},
   "outputs": [],
   "source": [
    "N_MATCHES = 200\n",
    "\n",
    "\n",
    "def generate_panorama(left: cv.typing.MatLike, right: cv.typing.MatLike) -> tuple:\n",
    "    kp1, kp2, matches = match_sift(left, right)\n",
    "\n",
    "    src_pts = np.float32([kp1[m.queryIdx].pt for m in matches[:N_MATCHES]]).reshape(-1, 1, 2)\n",
    "    dst_pts = np.float32([kp2[m.trainIdx].pt for m in matches[:N_MATCHES]]).reshape(-1, 1, 2)\n",
    "\n",
    "    H, _ = cv.findHomography(src_pts, dst_pts, cv.RANSAC)\n",
    "\n",
    "    # Dimensões do panorama\n",
    "    h1, w1 = left.shape\n",
    "    h2, w2 = right.shape\n",
    "    pts_left = np.float32([[0, 0], [0, h1], [w1, h1], [w1, 0]]).reshape(-1, 1, 2)\n",
    "    pts_right = np.float32([[0, 0], [0, h2], [w2, h2], [w2, 0]]).reshape(-1, 1, 2)\n",
    "\n",
    "    pts_left_transformed = cv.perspectiveTransform(pts_left, H)\n",
    "    all_pts = np.concatenate((pts_left_transformed, pts_right), axis=0)\n",
    "\n",
    "    [x_min, y_min] = np.int32(all_pts.min(axis=0).ravel() - 0.5)\n",
    "    [x_max, y_max] = np.int32(all_pts.max(axis=0).ravel() + 0.5)\n",
    "\n",
    "    # Aplicar translação para tratar pontos negativos\n",
    "    translation = [-x_min, -y_min]\n",
    "    T = np.array([[1, 0, translation[0]], [0, 1, translation[1]], [0, 0, 1]])\n",
    "    panorama = cv.warpPerspective(left, T @ H, (x_max - x_min, y_max - y_min))\n",
    "\n",
    "    panorama[translation[1] : h2 + translation[1], translation[0] : w2 + translation[0]] = right\n",
    "\n",
    "    # Obter versão recordada da imagem no tamanho (original_h, 2 * original_w)\n",
    "    cropped = panorama.copy()\n",
    "    if cropped.shape[1] >= 2 * right.shape[1]:\n",
    "        new_x_min = cropped.shape[1] - 2 * right.shape[1]\n",
    "        cropped = cropped[translation[1] : h2 + translation[1], new_x_min:]\n",
    "\n",
    "    return panorama, cropped"
   ]
  },
  {
   "cell_type": "code",
   "execution_count": null,
   "metadata": {},
   "outputs": [],
   "source": [
    "filenames = [\n",
    "    ('gym-left', 'gym-right'),\n",
    "    ('mesa-left', 'mesa-right'),\n",
    "    ('predios-left', 'predios-right'),\n",
    "    ('sala-left', 'sala-right'),\n",
    "]\n",
    "for filename1, filename2 in filenames:\n",
    "    left = cv.imread(f'./assets/{filename1}.jpg', cv.IMREAD_GRAYSCALE)\n",
    "    right = cv.imread(f'./assets/{filename2}.jpg', cv.IMREAD_GRAYSCALE)\n",
    "\n",
    "    result, cropped = generate_panorama(left, right)\n",
    "\n",
    "    show_images(left, right, titles=[filename1, filename2], scale=8)\n",
    "    show_images(result, cropped, titles=['Panorama', 'Panorama Cropped'], columns=2, scale=8)"
   ]
  },
  {
   "cell_type": "markdown",
   "metadata": {},
   "source": [
    "## Questão 2"
   ]
  },
  {
   "cell_type": "code",
   "execution_count": null,
   "metadata": {},
   "outputs": [],
   "source": []
  },
  {
   "cell_type": "markdown",
   "metadata": {},
   "source": [
    "## Questão 3"
   ]
  },
  {
   "cell_type": "markdown",
   "metadata": {},
   "source": [
    "Nessa questão, foi utilizado o software GIMP para obter as coordenadas de alguns pontos na imagem original. Os pontos foram listados no array `src`. Foram escolhidos os pontos da extremidade do campo e centro por serem mais fáceis de calcular as coordenadas de destino.\n",
    "\n",
    "Na função `warp_image` eu adicionei dois parâmetros `dx` e `dy` que servem como offsets para deslocar a imagem um pouco para esquerda e para baixo. A transformação acaba fazendo com que ela fique fora do frame estabelecido."
   ]
  },
  {
   "cell_type": "code",
   "execution_count": null,
   "metadata": {},
   "outputs": [],
   "source": [
    "def warp_image(\n",
    "    img: cv.typing.MatLike,\n",
    "    src: np.ndarray,\n",
    "    dst: np.ndarray,\n",
    "    height: float,\n",
    "    width: float,\n",
    "    dx: float = 0.0,\n",
    "    dy: float = 0.0,\n",
    ") -> cv.typing.MatLike:\n",
    "    H, _ = cv.findHomography(src, dst, cv.RANSAC)\n",
    "\n",
    "    T = np.array([[1, 0, dx], [0, 1, dy], [0, 0, 1]])\n",
    "    result = cv.warpPerspective(img, T @ H, (width + int(1.4 * dx), height + int(1.4 * dy)))\n",
    "\n",
    "    return result"
   ]
  },
  {
   "cell_type": "code",
   "execution_count": null,
   "metadata": {},
   "outputs": [],
   "source": [
    "soccer = cv.imread('./assets/soccer.jpg', cv.IMREAD_GRAYSCALE)"
   ]
  },
  {
   "cell_type": "code",
   "execution_count": null,
   "metadata": {},
   "outputs": [],
   "source": [
    "src = np.float32([\n",
    "    [4168, 1248],\n",
    "    [5416, 2192],\n",
    "    [6900, 3336],\n",
    "    [3640, 2460],\n",
    "    [880, 1648],\n",
    "    [1696, 2752],\n",
    "    [2672, 4128],\n",
    "]).reshape(-1, 1, 2)\n",
    "\n",
    "dst = np.float32([\n",
    "    [0, 0],\n",
    "    [3588, 0],\n",
    "    [7175, 0],\n",
    "    [3588, 2167],\n",
    "    [0, 4334],\n",
    "    [3588, 4332],\n",
    "    [7175, 4334],\n",
    "]).reshape(-1, 1, 2)\n",
    "\n",
    "\n",
    "# Mostrar pontos escolhidos na imagem original\n",
    "fig, ax = plt.subplots(figsize=(8, 6))\n",
    "ax.imshow(soccer, cmap='gray')\n",
    "ax.scatter(src[:, :, 0], src[:, :, 1], c='r', s=5, alpha=0.5)\n",
    "ax.set_title('Selected Points')\n",
    "plt.show()\n",
    "\n",
    "# Mostrar resultado\n",
    "result = warp_image(soccer, src, dst, soccer.shape[0], soccer.shape[1], 600, 150)\n",
    "show_images(result, titles=['Warped'], scale=8)"
   ]
  },
  {
   "cell_type": "markdown",
   "metadata": {},
   "source": [
    "Os resultados obtidos usando os pontos selecionados não foram exatamente precisos. Dá para perceber que a parte superior e lateral esquerda não estão exatamente paralelas com as bordas da imagem. Acredito que isso aconteça por conta dos pontos que foram escolhidos na parte da imagem que está coberta pela arquibancada. Não tem como saber exatamente onde os escanteios estão. Portanto, foi feita uma nova tentativa sem esses pontos.\n",
    "\n",
    "Acredito que os resultados foram melhores."
   ]
  },
  {
   "cell_type": "code",
   "execution_count": null,
   "metadata": {},
   "outputs": [],
   "source": [
    "src = np.float32([\n",
    "    [4168, 1248],\n",
    "    [5416, 2192],\n",
    "    [3640, 2460],\n",
    "    [880, 1648],\n",
    "    [1696, 2752],\n",
    "]).reshape(-1, 1, 2)\n",
    "\n",
    "dst = np.float32([\n",
    "    [0, 0],\n",
    "    [3588, 0],\n",
    "    [3588, 2167],\n",
    "    [0, 4334],\n",
    "    [3588, 4332],\n",
    "]).reshape(-1, 1, 2)\n",
    "\n",
    "\n",
    "# Mostrar pontos escolhidos na imagem original\n",
    "fig, ax = plt.subplots(figsize=(8, 6))\n",
    "ax.imshow(soccer, cmap='gray')\n",
    "ax.scatter(src[:, :, 0], src[:, :, 1], c='r', s=5, alpha=0.5)\n",
    "ax.set_title('Selected Points')\n",
    "plt.show()\n",
    "\n",
    "# Mostrar resultado\n",
    "result = warp_image(soccer, src, dst, soccer.shape[0], soccer.shape[1], 140, 50)\n",
    "show_images(result, titles=['Warped'], scale=8)"
   ]
  },
  {
   "cell_type": "code",
   "execution_count": null,
   "metadata": {},
   "outputs": [],
   "source": []
  }
 ],
 "metadata": {
  "kernelspec": {
   "display_name": ".venv",
   "language": "python",
   "name": "python3"
  },
  "language_info": {
   "codemirror_mode": {
    "name": "ipython",
    "version": 3
   },
   "file_extension": ".py",
   "mimetype": "text/x-python",
   "name": "python",
   "nbconvert_exporter": "python",
   "pygments_lexer": "ipython3",
   "version": "3.13.1"
  }
 },
 "nbformat": 4,
 "nbformat_minor": 2
}
