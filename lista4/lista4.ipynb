{
 "cells": [
  {
   "cell_type": "markdown",
   "id": "574a6e96",
   "metadata": {},
   "source": [
    "# Lista 4\n",
    "Arthur Pontes de Miranda Ramos Soares"
   ]
  },
  {
   "cell_type": "code",
   "execution_count": null,
   "id": "3910f2a0",
   "metadata": {},
   "outputs": [],
   "source": [
    "import os\n",
    "from pathlib import Path\n",
    "import cv2 as cv\n",
    "import matplotlib.pyplot as plt\n",
    "import numpy as np\n",
    "from sklearn.model_selection import train_test_split\n",
    "from sklearn.svm import SVC\n",
    "from sklearn.preprocessing import StandardScaler\n",
    "from sklearn.metrics import classification_report\n",
    "import pandas as pd"
   ]
  },
  {
   "cell_type": "markdown",
   "id": "fb4e9d7e",
   "metadata": {},
   "source": [
    "## Funções Auxiliares"
   ]
  },
  {
   "cell_type": "code",
   "execution_count": null,
   "id": "dce5baf1",
   "metadata": {},
   "outputs": [],
   "source": [
    "def show_images(\n",
    "    *images: np.ndarray, titles: list[str] | None = None, columns: int = 2, scale: int = 5\n",
    ") -> None:\n",
    "    num_images = len(images)\n",
    "\n",
    "    if titles is None:\n",
    "        titles = [f'Image {i + 1}' for i in range(num_images)]\n",
    "\n",
    "    rows = (num_images + columns - 1) // columns\n",
    "\n",
    "    fig, axes = plt.subplots(rows, columns, figsize=(scale * columns, scale * rows))\n",
    "    axes = np.array(axes).reshape(rows, columns)\n",
    "\n",
    "    for ax, img, title in zip(axes.flat, images, titles):\n",
    "        ax.imshow(img, cmap='gray')\n",
    "        ax.set_title(title)\n",
    "\n",
    "    for i in range(num_images, rows * columns):\n",
    "        fig.delaxes(axes.flat[i])\n",
    "\n",
    "    plt.tight_layout()\n",
    "\n",
    "\n",
    "def show_image(image: np.ndarray, title: str = None, dpi: int = 100) -> None:\n",
    "    height, width, _ = image.shape\n",
    "\n",
    "    figsize = (width / dpi, height / dpi)\n",
    "\n",
    "    plt.figure(figsize=figsize, dpi=dpi)\n",
    "    plt.imshow(image, cmap='gray' if len(image.shape) == 2 else None)\n",
    "    plt.title(title if title else '')\n",
    "\n",
    "    plt.tight_layout()"
   ]
  },
  {
   "cell_type": "markdown",
   "id": "a1ca13ae",
   "metadata": {},
   "source": [
    "# Datasets\n",
    "https://www.kaggle.com/datasets/utkarshsaxenadn/car-vs-bike-classification-dataset\n",
    "\n",
    "https://www.kaggle.com/datasets/kipshidze/apple-vs-orange-binary-classification"
   ]
  },
  {
   "cell_type": "code",
   "execution_count": null,
   "id": "a336ea38",
   "metadata": {},
   "outputs": [],
   "source": [
    "def extract_features(hog: cv.HOGDescriptor, root: Path) -> dict:\n",
    "    data = []\n",
    "    for label, folder in enumerate(root.iterdir()):\n",
    "        if not os.path.isdir(folder):\n",
    "            continue\n",
    "        for fname in os.listdir(folder):\n",
    "            img_path = folder / fname\n",
    "            img = cv.imread(img_path, cv.COLOR_BGR2GRAY)\n",
    "            img = cv.resize(img, (128, 128))\n",
    "            data.append({'features': hog.compute(img), 'label': label, 'path': img_path})\n",
    "    return pd.DataFrame(data)"
   ]
  },
  {
   "cell_type": "code",
   "execution_count": null,
   "id": "59a12ade",
   "metadata": {},
   "outputs": [],
   "source": [
    "hog = cv.HOGDescriptor(\n",
    "    _winSize=(64, 64),\n",
    "    _blockSize=(32, 32),\n",
    "    _blockStride=(16, 16),\n",
    "    _cellSize=(16, 16),\n",
    "    _nbins=9,\n",
    ")\n",
    "\n",
    "df = extract_features(hog, Path('./dataset1'))"
   ]
  },
  {
   "cell_type": "code",
   "execution_count": null,
   "id": "8ef28748",
   "metadata": {},
   "outputs": [],
   "source": [
    "df_train, df_test = train_test_split(df, test_size=0.3, stratify=df['label'], random_state=42)\n",
    "\n",
    "X_train = np.stack(df_train['features'].to_numpy())\n",
    "y_train = df_train['label'].to_numpy()\n",
    "\n",
    "X_test = np.stack(df_test['features'].to_numpy())\n",
    "y_test = df_test['label'].to_numpy()\n",
    "\n",
    "# Treinamento\n",
    "clf = SVC(kernel='rbf', gamma='scale', C=1)\n",
    "# clf = SVC(kernel='linear')\n",
    "clf.fit(X_train, y_train)\n",
    "\n",
    "# Avaliação\n",
    "y_pred = clf.predict(X_test)\n",
    "print(classification_report(y_test, y_pred))"
   ]
  },
  {
   "cell_type": "code",
   "execution_count": null,
   "id": "e132b3c9",
   "metadata": {},
   "outputs": [],
   "source": [
    "# Adiciona as previsões no dataframe de teste\n",
    "df_test = df_test.copy()\n",
    "df_test['pred'] = y_pred\n",
    "\n",
    "# Separar acertos e erros\n",
    "df_correct = df_test[df_test['label'] == df_test['pred']]\n",
    "df_wrong = df_test[df_test['label'] != df_test['pred']]\n",
    "\n",
    "labels_names = ['Moto', 'Carro']\n",
    "\n",
    "\n",
    "def show_examples(df_subset, title, max_images=5):\n",
    "    plt.figure(figsize=(15, 3))\n",
    "    for i, (_, row) in enumerate(df_subset.sample(min(max_images, len(df_subset))).iterrows()):\n",
    "        img = cv.imread(row['path'])\n",
    "        img = cv.cvtColor(img, cv.COLOR_BGR2RGB)\n",
    "        plt.subplot(1, max_images, i + 1)\n",
    "        plt.imshow(img)\n",
    "        plt.title(f'Real: {labels_names[row[\"label\"]]}\\nPred: {labels_names[row[\"pred\"]]}')\n",
    "        plt.axis('off')\n",
    "    plt.suptitle(title)\n",
    "    plt.show()\n",
    "\n",
    "\n",
    "show_examples(df_correct, 'Exemplos classificados corretamente')\n",
    "show_examples(df_wrong, 'Exemplos classificados incorretamente')"
   ]
  },
  {
   "cell_type": "code",
   "execution_count": null,
   "id": "83f4fff5",
   "metadata": {},
   "outputs": [],
   "source": [
    "# from sklearn.model_selection import GridSearchCV\n",
    "\n",
    "# param_grid = {'C': [0.1, 1, 10], 'gamma': ['scale', 0.01, 0.001], 'kernel': ['rbf']}\n",
    "\n",
    "# grid = GridSearchCV(SVC(), param_grid, cv=5)\n",
    "# grid.fit(X_train, y_train)\n",
    "# print('Melhor SVM:', grid.best_params_)"
   ]
  },
  {
   "cell_type": "code",
   "execution_count": null,
   "id": "56e0f78e",
   "metadata": {},
   "outputs": [],
   "source": [
    "from sklearn.metrics import accuracy_score\n",
    "\n",
    "accuracy = accuracy_score(y_test, y_pred)\n",
    "print(f'Acurácia no conjunto de teste: {accuracy:.2f}')"
   ]
  },
  {
   "cell_type": "code",
   "execution_count": null,
   "id": "b8d1479d",
   "metadata": {},
   "outputs": [],
   "source": [
    "import seaborn as sns\n",
    "from sklearn.metrics import confusion_matrix\n",
    "\n",
    "cm = confusion_matrix(y_test, y_pred)\n",
    "\n",
    "sns.heatmap(\n",
    "    cm,\n",
    "    annot=True,\n",
    "    fmt='d',\n",
    "    cmap='Blues',\n",
    "    xticklabels=['Moto', 'Carro'],\n",
    "    yticklabels=['Moto', 'Carro'],\n",
    ")\n",
    "plt.xlabel('Predito')\n",
    "plt.ylabel('Real')\n",
    "plt.title('Matriz de Confusão')\n",
    "plt.show()"
   ]
  }
 ],
 "metadata": {
  "kernelspec": {
   "display_name": ".venv",
   "language": "python",
   "name": "python3"
  },
  "language_info": {
   "codemirror_mode": {
    "name": "ipython",
    "version": 3
   },
   "file_extension": ".py",
   "mimetype": "text/x-python",
   "name": "python",
   "nbconvert_exporter": "python",
   "pygments_lexer": "ipython3",
   "version": "3.13.1"
  }
 },
 "nbformat": 4,
 "nbformat_minor": 5
}
